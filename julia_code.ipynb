{
 "cells": [
  {
   "cell_type": "code",
   "execution_count": 1,
   "id": "d8d46606",
   "metadata": {},
   "outputs": [],
   "source": [
    "# This notebook contains Lasso, SVR, and Decision Tree Models"
   ]
  },
  {
   "cell_type": "markdown",
   "id": "835aa8c5",
   "metadata": {},
   "source": [
    "### Import modules"
   ]
  },
  {
   "cell_type": "code",
   "execution_count": 2,
   "id": "d34dadb5",
   "metadata": {},
   "outputs": [],
   "source": [
    "import pandas as pd\n",
    "import numpy as np\n",
    "from sklearn import preprocessing\n",
    "from sklearn.model_selection import train_test_split\n",
    "from sklearn import linear_model\n",
    "from sklearn.model_selection import KFold\n",
    "from sklearn.metrics import mean_squared_error\n",
    "from sklearn.svm import SVR\n",
    "import matplotlib.pyplot as plt\n",
    "from sklearn.tree import DecisionTreeRegressor"
   ]
  },
  {
   "cell_type": "markdown",
   "id": "1d20f903",
   "metadata": {},
   "source": [
    "### Data preprocessing from Anar's notebook"
   ]
  },
  {
   "cell_type": "code",
   "execution_count": 3,
   "id": "a7c9c838",
   "metadata": {},
   "outputs": [],
   "source": [
    "fn = \"DATASET_for_Python.xlsx\"\n",
    "Raw_raw = pd.read_excel(fn, sheet_name = 'Raw')\n",
    "PE_raw = pd.read_excel(fn, sheet_name = 'PE')\n",
    "SFE_raw = pd.read_excel(fn, sheet_name = 'SFE')\n",
    "Etc_raw = pd.read_excel(fn, sheet_name = 'Etc')"
   ]
  },
  {
   "cell_type": "code",
   "execution_count": 4,
   "id": "ed33b461",
   "metadata": {},
   "outputs": [
    {
     "name": "stderr",
     "output_type": "stream",
     "text": [
      "C:\\Users\\14407\\AppData\\Local\\Temp/ipykernel_11956/3739660384.py:1: UserWarning: Pandas doesn't allow columns to be created via a new attribute name - see https://pandas.pydata.org/pandas-docs/stable/indexing.html#attribute-access\n",
      "  Raw_raw.usecols = ['Date','Month','Temp_C','TPRaw_Mass_kg.d', 'SPRaw_Mass_kg.d','FerricRaw_Mass_kg.d']\n",
      "C:\\Users\\14407\\AppData\\Local\\Temp/ipykernel_11956/3739660384.py:3: UserWarning: Pandas doesn't allow columns to be created via a new attribute name - see https://pandas.pydata.org/pandas-docs/stable/indexing.html#attribute-access\n",
      "  PE_raw.usecols = ['PE Flow_MGD', 'BODPE_Mass_kg.d', 'VSSPE_Mass_kg.d', 'SPPE_Mass_kg.d','f.TPPE_Mass_kg.d']\n",
      "C:\\Users\\14407\\AppData\\Local\\Temp/ipykernel_11956/3739660384.py:6: UserWarning: Pandas doesn't allow columns to be created via a new attribute name - see https://pandas.pydata.org/pandas-docs/stable/indexing.html#attribute-access\n",
      "  SFE_raw.usecols = ['SPSFE_Mass_kg.d', 'TPSFE_Mass_kg.d', 'TSSSFE_Mass_kg.d']\n",
      "C:\\Users\\14407\\AppData\\Local\\Temp/ipykernel_11956/3739660384.py:10: UserWarning: Pandas doesn't allow columns to be created via a new attribute name - see https://pandas.pydata.org/pandas-docs/stable/indexing.html#attribute-access\n",
      "  Etc_raw.usecols = ['RAS_FlowMGD', 'MVLSSmg.l','SRT_PredDays', 'Sludge_Blanket_Depth_ft']\n"
     ]
    },
    {
     "data": {
      "text/html": [
       "<div>\n",
       "<style scoped>\n",
       "    .dataframe tbody tr th:only-of-type {\n",
       "        vertical-align: middle;\n",
       "    }\n",
       "\n",
       "    .dataframe tbody tr th {\n",
       "        vertical-align: top;\n",
       "    }\n",
       "\n",
       "    .dataframe thead th {\n",
       "        text-align: right;\n",
       "    }\n",
       "</style>\n",
       "<table border=\"1\" class=\"dataframe\">\n",
       "  <thead>\n",
       "    <tr style=\"text-align: right;\">\n",
       "      <th></th>\n",
       "      <th>RAS_FlowMGD</th>\n",
       "      <th>MVLSSmg.l</th>\n",
       "      <th>SRT_PredDays</th>\n",
       "      <th>Sludge_Blanket_Depth_ft</th>\n",
       "    </tr>\n",
       "  </thead>\n",
       "  <tbody>\n",
       "    <tr>\n",
       "      <th>0</th>\n",
       "      <td>155.426097</td>\n",
       "      <td>1606.666667</td>\n",
       "      <td>2.721281</td>\n",
       "      <td>73.60</td>\n",
       "    </tr>\n",
       "    <tr>\n",
       "      <th>1</th>\n",
       "      <td>154.770060</td>\n",
       "      <td>1768.333333</td>\n",
       "      <td>2.927742</td>\n",
       "      <td>75.24</td>\n",
       "    </tr>\n",
       "    <tr>\n",
       "      <th>2</th>\n",
       "      <td>155.021861</td>\n",
       "      <td>1723.000000</td>\n",
       "      <td>2.781791</td>\n",
       "      <td>78.20</td>\n",
       "    </tr>\n",
       "    <tr>\n",
       "      <th>3</th>\n",
       "      <td>160.281722</td>\n",
       "      <td>1834.666667</td>\n",
       "      <td>7.063988</td>\n",
       "      <td>82.80</td>\n",
       "    </tr>\n",
       "    <tr>\n",
       "      <th>4</th>\n",
       "      <td>158.443042</td>\n",
       "      <td>1769.666667</td>\n",
       "      <td>2.638802</td>\n",
       "      <td>82.80</td>\n",
       "    </tr>\n",
       "  </tbody>\n",
       "</table>\n",
       "</div>"
      ],
      "text/plain": [
       "   RAS_FlowMGD    MVLSSmg.l  SRT_PredDays  Sludge_Blanket_Depth_ft\n",
       "0   155.426097  1606.666667      2.721281                    73.60\n",
       "1   154.770060  1768.333333      2.927742                    75.24\n",
       "2   155.021861  1723.000000      2.781791                    78.20\n",
       "3   160.281722  1834.666667      7.063988                    82.80\n",
       "4   158.443042  1769.666667      2.638802                    82.80"
      ]
     },
     "execution_count": 4,
     "metadata": {},
     "output_type": "execute_result"
    }
   ],
   "source": [
    "Raw_raw.usecols = ['Date','Month','Temp_C','TPRaw_Mass_kg.d', 'SPRaw_Mass_kg.d','FerricRaw_Mass_kg.d']\n",
    "Raw = Raw_raw.loc[:,Raw_raw.usecols]\n",
    "PE_raw.usecols = ['PE Flow_MGD', 'BODPE_Mass_kg.d', 'VSSPE_Mass_kg.d', 'SPPE_Mass_kg.d','f.TPPE_Mass_kg.d']\n",
    "PE = PE_raw.loc[:,PE_raw.usecols]\n",
    "# SFE\n",
    "SFE_raw.usecols = ['SPSFE_Mass_kg.d', 'TPSFE_Mass_kg.d', 'TSSSFE_Mass_kg.d']\n",
    "SFE = SFE_raw.loc[:,SFE_raw.usecols]\n",
    "SFE.head(5)\n",
    "# Etc.\n",
    "Etc_raw.usecols = ['RAS_FlowMGD', 'MVLSSmg.l','SRT_PredDays', 'Sludge_Blanket_Depth_ft']\n",
    "Etc = Etc_raw.loc[:,Etc_raw.usecols]\n",
    "Etc.head(5)"
   ]
  },
  {
   "cell_type": "code",
   "execution_count": 5,
   "id": "b693ad6d",
   "metadata": {},
   "outputs": [
    {
     "name": "stdout",
     "output_type": "stream",
     "text": [
      "<class 'pandas.core.frame.DataFrame'>\n",
      "Index: 3165 entries, 2013-01-01 to 2021-08-31\n",
      "Data columns (total 17 columns):\n",
      " #   Column                   Non-Null Count  Dtype  \n",
      "---  ------                   --------------  -----  \n",
      " 0   Month                    3165 non-null   int64  \n",
      " 1   Temp_C                   3165 non-null   float64\n",
      " 2   TPRaw_Mass_kg.d          3157 non-null   float64\n",
      " 3   SPRaw_Mass_kg.d          3157 non-null   float64\n",
      " 4   FerricRaw_Mass_kg.d      3104 non-null   float64\n",
      " 5   PE Flow_MGD              3165 non-null   float64\n",
      " 6   BODPE_Mass_kg.d          3159 non-null   float64\n",
      " 7   VSSPE_Mass_kg.d          3162 non-null   float64\n",
      " 8   SPPE_Mass_kg.d           3157 non-null   float64\n",
      " 9   f.TPPE_Mass_kg.d         3165 non-null   float64\n",
      " 10  SPSFE_Mass_kg.d          3165 non-null   float64\n",
      " 11  TPSFE_Mass_kg.d          3165 non-null   float64\n",
      " 12  TSSSFE_Mass_kg.d         3165 non-null   float64\n",
      " 13  RAS_FlowMGD              3165 non-null   float64\n",
      " 14  MVLSSmg.l                3165 non-null   float64\n",
      " 15  SRT_PredDays             3165 non-null   float64\n",
      " 16  Sludge_Blanket_Depth_ft  3165 non-null   float64\n",
      "dtypes: float64(16), int64(1)\n",
      "memory usage: 445.1+ KB\n"
     ]
    }
   ],
   "source": [
    "df = pd.concat([Raw,PE,SFE,Etc], axis=1)\n",
    "df['Date'] = pd.to_datetime(df['Date']).dt.date #remove time from datetime\n",
    "df = df.set_index('Date') # set index with Date\n",
    "df.info()"
   ]
  },
  {
   "cell_type": "code",
   "execution_count": 6,
   "id": "45f0bcc6",
   "metadata": {},
   "outputs": [],
   "source": [
    "df.columns = [\"Month\", \"Temp\", \"Raw_TP\", \"Raw_SP\", \"Ferric\", \"PE_flow\", \"PE_BOD\", \"PE_VSS\", \"PE_SP\", \"PE_TP\", \"SFE_SP\", \"SFE_TP\", \"SFE_TSS\", \"RAS_flow\", \"MLVSS\", \"SRT\", \"SLBk\"]\n",
    "df['week_day'] = np.arange(2,3167)%7"
   ]
  },
  {
   "cell_type": "code",
   "execution_count": 7,
   "id": "62f293bd",
   "metadata": {},
   "outputs": [],
   "source": [
    "df['Mn'] = (df['week_day'].values == 1)+np.zeros(3165)\n",
    "df['Ts'] = (df['week_day'].values == 2)+np.zeros(3165)\n",
    "df['Wed'] = (df['week_day'].values == 3)+np.zeros(3165)\n",
    "df['Th'] = (df['week_day'].values == 4)+np.zeros(3165)\n",
    "df['Fr'] = (df['week_day'].values == 5)+np.zeros(3165)\n",
    "df['Sat'] = (df['week_day'].values == 6)+np.zeros(3165)\n",
    "df['Sun'] = (df['week_day'].values == 0)+np.zeros(3165)"
   ]
  },
  {
   "cell_type": "code",
   "execution_count": 8,
   "id": "8732d26f",
   "metadata": {},
   "outputs": [],
   "source": [
    "df['Winter'] = ((df['Month'] > 11)  | (df[\"Month\"]<3)) + np.zeros(3165)\n",
    "df['Summer'] = ((df['Month'] > 5)  & (df[\"Month\"]<9)) + np.zeros(3165)\n",
    "df['Fall'] = ((df['Month'] > 8)  & (df[\"Month\"]<12)) + np.zeros(3165)\n",
    "df['Spring'] = ((df['Month'] > 2)  & (df[\"Month\"]<6)) + np.zeros(3165)"
   ]
  },
  {
   "cell_type": "code",
   "execution_count": 9,
   "id": "89beab6f",
   "metadata": {},
   "outputs": [
    {
     "name": "stdout",
     "output_type": "stream",
     "text": [
      "<class 'pandas.core.frame.DataFrame'>\n",
      "Index: 3165 entries, 2013-01-01 to 2021-08-31\n",
      "Data columns (total 29 columns):\n",
      " #   Column    Non-Null Count  Dtype  \n",
      "---  ------    --------------  -----  \n",
      " 0   Month     3165 non-null   int64  \n",
      " 1   Temp      3165 non-null   float64\n",
      " 2   Raw_TP    3165 non-null   float64\n",
      " 3   Raw_SP    3165 non-null   float64\n",
      " 4   Ferric    3165 non-null   float64\n",
      " 5   PE_flow   3165 non-null   float64\n",
      " 6   PE_BOD    3165 non-null   float64\n",
      " 7   PE_VSS    3165 non-null   float64\n",
      " 8   PE_SP     3165 non-null   float64\n",
      " 9   PE_TP     3165 non-null   float64\n",
      " 10  SFE_SP    3165 non-null   float64\n",
      " 11  SFE_TP    3165 non-null   float64\n",
      " 12  SFE_TSS   3165 non-null   float64\n",
      " 13  RAS_flow  3165 non-null   float64\n",
      " 14  MLVSS     3165 non-null   float64\n",
      " 15  SRT       3165 non-null   float64\n",
      " 16  SLBk      3165 non-null   float64\n",
      " 17  week_day  3165 non-null   int32  \n",
      " 18  Mn        3165 non-null   float64\n",
      " 19  Ts        3165 non-null   float64\n",
      " 20  Wed       3165 non-null   float64\n",
      " 21  Th        3165 non-null   float64\n",
      " 22  Fr        3165 non-null   float64\n",
      " 23  Sat       3165 non-null   float64\n",
      " 24  Sun       3165 non-null   float64\n",
      " 25  Winter    3165 non-null   float64\n",
      " 26  Summer    3165 non-null   float64\n",
      " 27  Fall      3165 non-null   float64\n",
      " 28  Spring    3165 non-null   float64\n",
      "dtypes: float64(27), int32(1), int64(1)\n",
      "memory usage: 729.4+ KB\n",
      "None\n"
     ]
    }
   ],
   "source": [
    "df=df.fillna(df.mean(axis=0)) # Mean to NaN\n",
    "#df=df.fillna(method=\"ffill\", axis=0) #fill with previous value\n",
    "#df.where(pd.notnull(df), df.mean(), axis='columns')\n",
    "print(df.info())    "
   ]
  },
  {
   "cell_type": "code",
   "execution_count": 10,
   "id": "349aed54",
   "metadata": {},
   "outputs": [],
   "source": [
    "min_max_scaler = preprocessing.MinMaxScaler()\n",
    "scaled_df = min_max_scaler.fit_transform(df)\n",
    "scaled_df = pd.DataFrame(scaled_df, index=df.index, columns=df.columns)"
   ]
  },
  {
   "cell_type": "code",
   "execution_count": 11,
   "id": "a8621329",
   "metadata": {},
   "outputs": [],
   "source": [
    "# X = scaled_df.loc[:,['PE_TP','Temp', 'Raw_TP', 'Ferric', 'PE_flow', 'PE_BOD', 'SFE_TSS', 'MLVSS', 'SRT', 'SLBk', 'Winter', 'Fall', 'Summer', 'Spring', 'Mn', 'Ts', 'Wed', 'Th',\n",
    "#                      'Fr', 'Sat', 'Sun']]\n",
    "X = scaled_df.loc[:,['PE_TP','Temp', 'Raw_TP', 'Ferric', 'PE_flow', 'PE_BOD', 'SFE_TSS', 'MLVSS', 'SRT', 'SLBk']]\n",
    "y = scaled_df.loc[:,'SFE_TP']"
   ]
  },
  {
   "cell_type": "code",
   "execution_count": 12,
   "id": "1b263878",
   "metadata": {},
   "outputs": [],
   "source": [
    "unscaled_y = df.loc[:,'SFE_TP']"
   ]
  },
  {
   "cell_type": "code",
   "execution_count": 13,
   "id": "b3ade59c",
   "metadata": {},
   "outputs": [
    {
     "name": "stdout",
     "output_type": "stream",
     "text": [
      "(2373, 10) (792, 10) (2373,) (792,)\n"
     ]
    }
   ],
   "source": [
    "X_train_df, X_test_df, y_train_df, y_test_df = train_test_split(X, unscaled_y, test_size=0.25, random_state=113021)\n",
    "X_train, X_test, y_train, y_test = np.array(X_train_df),  np.array(X_test_df),  np.array(y_train_df),  np.array(y_test_df)\n",
    "print(X_train.shape, X_test.shape, y_train.shape, y_test.shape)"
   ]
  },
  {
   "cell_type": "markdown",
   "id": "5599bdcc",
   "metadata": {},
   "source": [
    "### Lasso"
   ]
  },
  {
   "cell_type": "code",
   "execution_count": 14,
   "id": "b86469c8",
   "metadata": {},
   "outputs": [
    {
     "name": "stdout",
     "output_type": "stream",
     "text": [
      "[107945.83817089626, 107945.03522708503, 107959.85181720073, 108106.84647555074, 108681.19814659492, 109767.03401886814]\n",
      "Minimum MSE: 107945.04 when alpha = 0.05\n"
     ]
    }
   ],
   "source": [
    "# K Fold cross validation for alpha hyperparameter\n",
    "alphas = [0.01, 0.05, 0.1, 0.25, 0.5, 1]\n",
    "\n",
    "kf = KFold(n_splits=5, random_state=113021, shuffle=True)\n",
    "kf.get_n_splits(X_train)\n",
    "\n",
    "avg_mses = []\n",
    "for alph in alphas:\n",
    "    mses = []\n",
    "    for train_i, test_i in kf.split(X_train):\n",
    "        x_in, x_v = X_train[train_i], X_train[test_i]\n",
    "        y_in, y_v = y_train[train_i], y_train[test_i]\n",
    "            \n",
    "        clf = linear_model.Lasso(alpha=alph)\n",
    "        clf.fit(x_in, y_in)\n",
    "            \n",
    "        preds = clf.predict(x_v)\n",
    "        mse = mean_squared_error(y_v, preds)\n",
    "        mses.append(mse)\n",
    "        \n",
    "    mse_avg = sum(mses) / len(mses)\n",
    "    avg_mses.append(mse_avg)\n",
    "\n",
    "print(avg_mses)\n",
    "min_val = min(avg_mses)\n",
    "min_i = avg_mses.index(min_val)\n",
    "print(\"Minimum MSE:\", round(min_val, 2), \"when alpha =\", alphas[min_i])"
   ]
  },
  {
   "cell_type": "code",
   "execution_count": 15,
   "id": "85dd8ad1",
   "metadata": {},
   "outputs": [
    {
     "name": "stdout",
     "output_type": "stream",
     "text": [
      "[1669.28294922   28.1618774   180.32117859  464.55915239 -215.52692811\n",
      "   39.10332879 4393.53177644  109.65087905  814.90793708 -503.63189688]\n",
      "Index([], dtype='object')\n"
     ]
    }
   ],
   "source": [
    "# Determined best value of alpha is 0.05\n",
    "lasso_mod = linear_model.Lasso(alpha=0.05)\n",
    "lasso_mod.fit(X_train, y_train)\n",
    "print(lasso_mod.coef_)\n",
    "print(X_train_df.columns[lasso_mod.coef_ == 0])"
   ]
  },
  {
   "cell_type": "code",
   "execution_count": 16,
   "id": "a4fa56dc",
   "metadata": {},
   "outputs": [
    {
     "name": "stdout",
     "output_type": "stream",
     "text": [
      "Lasso MSE: 119880.62271180593\n"
     ]
    }
   ],
   "source": [
    "preds = lasso_mod.predict(X_test)\n",
    "print(\"Lasso MSE:\", mean_squared_error(y_test, preds))"
   ]
  },
  {
   "cell_type": "code",
   "execution_count": 17,
   "id": "ddee0f61",
   "metadata": {},
   "outputs": [
    {
     "data": {
      "image/png": "[encoded data removed]",
      "text/plain": [
       "<Figure size 432x288 with 1 Axes>"
      ]
     },
     "metadata": {
      "needs_background": "light"
     },
     "output_type": "display_data"
    }
   ],
   "source": [
    "plt.scatter(y_test, preds)\n",
    "x = [0, 5000]\n",
    "y = [0, 5000]\n",
    "plt.plot(x, y)\n",
    "plt.title('Lasso Regression')\n",
    "plt.xlabel('True Values')\n",
    "plt.ylabel('Predictions')\n",
    "plt.show()"
   ]
  },
  {
   "cell_type": "markdown",
   "id": "06797550",
   "metadata": {},
   "source": [
    "### SVR"
   ]
  },
  {
   "cell_type": "code",
   "execution_count": 18,
   "id": "371ecf66",
   "metadata": {},
   "outputs": [],
   "source": [
    "reg_range = np.logspace(-1,1,3)     # Regularization paramters\n",
    "kpara_range = np.logspace(-2, 0, 3) # Kernel parameters "
   ]
  },
  {
   "cell_type": "code",
   "execution_count": 19,
   "id": "214313db",
   "metadata": {},
   "outputs": [
    {
     "name": "stdout",
     "output_type": "stream",
     "text": [
      "C:  0.1 Gamma:  0.01 SVR Avg. MSE:  201511.59775674096\n",
      "C:  0.1 Gamma:  0.1 SVR Avg. MSE:  201420.20093846048\n",
      "C:  0.1 Gamma:  1.0 SVR Avg. MSE:  200759.51026542028\n",
      "C:  1.0 Gamma:  0.01 SVR Avg. MSE:  201415.41639839928\n",
      "C:  1.0 Gamma:  0.1 SVR Avg. MSE:  200362.89250818122\n",
      "C:  1.0 Gamma:  1.0 SVR Avg. MSE:  193499.7884634745\n",
      "C:  10.0 Gamma:  0.01 SVR Avg. MSE:  200331.98880303183\n",
      "C:  10.0 Gamma:  0.1 SVR Avg. MSE:  190357.02670365368\n",
      "C:  10.0 Gamma:  1.0 SVR Avg. MSE:  160305.20427525864\n"
     ]
    }
   ],
   "source": [
    "# K fold cross validation for regularization parameter and kernel parameter\n",
    "for C in reg_range:\n",
    "    for gamma in kpara_range:\n",
    "        mses = []\n",
    "        for train_i, test_i in kf.split(X_train):\n",
    "            x_in, x_v = X_train[train_i], X_train[test_i]\n",
    "            y_in, y_v = y_train[train_i], y_train[test_i]\n",
    "\n",
    "            svr = SVR(kernel=\"rbf\", C=C, gamma=gamma).fit(x_in, y_in)\n",
    "            preds = svr.predict(x_v)\n",
    "            mse = mean_squared_error(y_v, preds)\n",
    "            mses.append(mse)\n",
    "                  \n",
    "        svr_avg = sum(mses) / len(mses)\n",
    "        print(\"C: \", C, \"Gamma: \", gamma, \"SVR Avg. MSE: \", svr_avg)"
   ]
  },
  {
   "cell_type": "code",
   "execution_count": 20,
   "id": "86755e29",
   "metadata": {},
   "outputs": [
    {
     "name": "stdout",
     "output_type": "stream",
     "text": [
      "SVR MSE: 196593.42782434556\n"
     ]
    }
   ],
   "source": [
    "# Lowest MSE identified with C=10 and gamma=1\n",
    "svr = SVR(kernel=\"rbf\", C=10, gamma=1).fit(X_train, y_train)\n",
    "preds = svr.predict(X_test)\n",
    "print(\"SVR MSE:\", mean_squared_error(y_test, preds))"
   ]
  },
  {
   "cell_type": "code",
   "execution_count": 21,
   "id": "6db61f6b",
   "metadata": {},
   "outputs": [
    {
     "data": {
      "image/png": "[encoded data removed]",
      "text/plain": [
       "<Figure size 432x288 with 1 Axes>"
      ]
     },
     "metadata": {
      "needs_background": "light"
     },
     "output_type": "display_data"
    }
   ],
   "source": [
    "plt.scatter(y_test, preds)\n",
    "x_vals = [0, 5000]\n",
    "y_vals = [0, 5000]\n",
    "plt.plot(x_vals, y_vals)\n",
    "plt.title('SVR Regression')\n",
    "plt.xlabel('True Values')\n",
    "plt.ylabel('Predictions')\n",
    "plt.show()"
   ]
  },
  {
   "cell_type": "markdown",
   "id": "cb1f10be",
   "metadata": {},
   "source": [
    "### Regression Tree"
   ]
  },
  {
   "cell_type": "code",
   "execution_count": 22,
   "id": "33b65215",
   "metadata": {},
   "outputs": [
    {
     "name": "stdout",
     "output_type": "stream",
     "text": [
      "Depth:  1 Regression Tree Avg. MSE:  166386.3516006332\n",
      "Depth:  5 Regression Tree Avg. MSE:  132655.90837771734\n",
      "Depth:  10 Regression Tree Avg. MSE:  165352.6822031005\n",
      "Depth:  25 Regression Tree Avg. MSE:  191630.09188345895\n",
      "Depth:  50 Regression Tree Avg. MSE:  190922.76210258607\n",
      "Depth:  100 Regression Tree Avg. MSE:  190922.76210258607\n"
     ]
    }
   ],
   "source": [
    "# K fold cross validation for max depth\n",
    "max_depths = [1, 5, 10, 25, 50, 100]\n",
    "\n",
    "for d in max_depths:\n",
    "    mses = []\n",
    "    for train_i, test_i in kf.split(X_train):\n",
    "        x_in, x_v = X_train[train_i], X_train[test_i]\n",
    "        y_in, y_v = y_train[train_i], y_train[test_i]\n",
    "\n",
    "        regressor = DecisionTreeRegressor(max_depth = d, random_state=113021)\n",
    "        regressor.fit(x_in, y_in)\n",
    "        preds = regressor.predict(x_v)\n",
    "        mse = mean_squared_error(y_v, preds)\n",
    "        mses.append(mse)\n",
    "            \n",
    "        \n",
    "    rt_avg = sum(mses) / len(mses)\n",
    "    print(\"Depth: \", d, \"Regression Tree Avg. MSE: \", rt_avg)"
   ]
  },
  {
   "cell_type": "code",
   "execution_count": 23,
   "id": "d45cbe84",
   "metadata": {},
   "outputs": [
    {
     "name": "stdout",
     "output_type": "stream",
     "text": [
      "Decision tree MSE: 154184.76947349912\n"
     ]
    }
   ],
   "source": [
    "# Lowest MSE identified with max_depth = 5\n",
    "regressor = DecisionTreeRegressor(max_depth = 5, random_state=113021)\n",
    "regressor.fit(X_train, y_train)\n",
    "preds = regressor.predict(X_test)\n",
    "print(\"Decision tree MSE:\", mean_squared_error(y_test, preds))"
   ]
  },
  {
   "cell_type": "code",
   "execution_count": 24,
   "id": "a9a13c8b",
   "metadata": {},
   "outputs": [
    {
     "data": {
      "image/png": "[encoded data removed]",
      "text/plain": [
       "<Figure size 432x288 with 1 Axes>"
      ]
     },
     "metadata": {
      "needs_background": "light"
     },
     "output_type": "display_data"
    }
   ],
   "source": [
    "plt.scatter(y_test, preds)\n",
    "x_vals = [0, 5000]\n",
    "y_vals = [0, 5000]\n",
    "plt.plot(x_vals, y_vals)\n",
    "plt.title('Decision Tree Regression')\n",
    "plt.xlabel('True Values')\n",
    "plt.ylabel('Predictions')\n",
    "plt.show()"
   ]
  },
  {
   "cell_type": "code",
   "execution_count": null,
   "id": "b2ab6d35",
   "metadata": {},
   "outputs": [],
   "source": []
  }
 ],
 "metadata": {
  "kernelspec": {
   "display_name": "Python 3 (ipykernel)",
   "language": "python",
   "name": "python3"
  },
  "language_info": {
   "codemirror_mode": {
    "name": "ipython",
    "version": 3
   },
   "file_extension": ".py",
   "mimetype": "text/x-python",
   "name": "python",
   "nbconvert_exporter": "python",
   "pygments_lexer": "ipython3",
   "version": "3.8.11"
  }
 },
 "nbformat": 4,
 "nbformat_minor": 5
}
